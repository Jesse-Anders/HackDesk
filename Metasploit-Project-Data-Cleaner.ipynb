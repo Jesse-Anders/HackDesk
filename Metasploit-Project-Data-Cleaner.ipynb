{
 "cells": [
  {
   "cell_type": "code",
   "execution_count": 4,
   "id": "ced2868c-6c5c-4818-8679-ffca64d21d39",
   "metadata": {
    "tags": []
   },
   "outputs": [
    {
     "name": "stdout",
     "output_type": "stream",
     "text": [
      "Inserted 'Entry X' for 2437 occurrences of 'Name:'\n"
     ]
    }
   ],
   "source": [
    "# Open the file and read its content\n",
    "with open('exploit_info.txt', 'r') as file:\n",
    "    lines = file.readlines()\n",
    "\n",
    "# Initialize variables\n",
    "new_lines = []\n",
    "name_count = 0\n",
    "\n",
    "# Iterate through the lines and process them\n",
    "for line in lines:\n",
    "    if \"Name:\" in line:\n",
    "        name_count += 1\n",
    "        # Insert the \"Entry X\" line before the line containing \"Name:\"\n",
    "        new_lines.append(f\"Begin Exploit Number {name_count}\\n\")\n",
    "    new_lines.append(line)  # Always append the current line\n",
    "\n",
    "# Write the updated content back to the file\n",
    "with open('exploit_info.txt', 'w') as file:\n",
    "    file.writelines(new_lines)\n",
    "\n",
    "print(f\"Inserted 'Entry X' for {name_count} occurrences of 'Name:'\")\n"
   ]
  },
  {
   "cell_type": "code",
   "execution_count": 5,
   "id": "907df3ca-c450-4001-aa29-4137b1fde983",
   "metadata": {
    "tags": []
   },
   "outputs": [
    {
     "name": "stdout",
     "output_type": "stream",
     "text": [
      "Inserted 'Entry X' for 2436 occurrences of 'Exploit Number'\n"
     ]
    }
   ],
   "source": [
    "# Open the file and read its content\n",
    "with open('exploit_info.txt', 'r') as file:\n",
    "    lines = file.readlines()\n",
    "\n",
    "# Initialize variables\n",
    "new_lines = []\n",
    "name_count = -1\n",
    "\n",
    "# Iterate through the lines and process them\n",
    "for line in lines:\n",
    "    if \"Exploit Number\" in line:\n",
    "        name_count += 1\n",
    "        # Insert the \"Entry X\" line before the line containing \"Name:\"\n",
    "        new_lines.append(f\"End Exploit Number {name_count}\\n \\n\")\n",
    "    new_lines.append(line)  # Always append the current line\n",
    "\n",
    "# Write the updated content back to the file\n",
    "with open('exploit_info.txt', 'w') as file:\n",
    "    file.writelines(new_lines)\n",
    "\n",
    "print(f\"Inserted 'Entry X' for {name_count} occurrences of 'Exploit Number'\")"
   ]
  },
  {
   "cell_type": "markdown",
   "id": "f5d8995a-ba21-41f8-9376-95beb516d1ef",
   "metadata": {},
   "source": [
    "## HAND EDIT 1ST AND LAST LINES OF CODE.\n",
    "## THEN SAVE AS exploit_info_trimmed.txt"
   ]
  },
  {
   "cell_type": "code",
   "execution_count": 6,
   "id": "4afd9a06-07e4-4c88-a11e-c6552d1469d1",
   "metadata": {},
   "outputs": [],
   "source": [
    "def remove_lines_provided_by(filename):\n",
    "    with open(filename, 'r') as file:\n",
    "        lines = file.readlines()\n",
    "\n",
    "    # Variables to control when to delete lines\n",
    "    in_provided_by_section = False\n",
    "    cleaned_lines = []\n",
    "\n",
    "    for line in lines:\n",
    "        if line.startswith(\"Provided by:\"):\n",
    "            in_provided_by_section = True  # Start skipping lines after \"Provided by:\"\n",
    "            continue  # Skip this line\n",
    "        elif in_provided_by_section and line.startswith(\"Payload information:\"):\n",
    "            in_provided_by_section = False  # Stop skipping when \"Payload information:\" is encountered\n",
    "        \n",
    "        if not in_provided_by_section:\n",
    "            cleaned_lines.append(line)\n",
    "\n",
    "    # Write the cleaned lines back to the file\n",
    "    with open(filename, 'w') as file:\n",
    "        file.writelines(cleaned_lines)\n",
    "\n",
    "# Example usage:\n",
    "filename = 'exploit_info_trimmed.txt'\n",
    "remove_lines_provided_by(filename)"
   ]
  },
  {
   "cell_type": "code",
   "execution_count": 7,
   "id": "8a8140cd-735a-402b-9483-32a7e563d33e",
   "metadata": {
    "tags": []
   },
   "outputs": [],
   "source": [
    "def remove_lines_reference_to_end(filename):\n",
    "    with open(filename, 'r') as file:\n",
    "        lines = file.readlines()\n",
    "\n",
    "    # Variables to control when to delete lines\n",
    "    in_provided_by_section = False\n",
    "    cleaned_lines = []\n",
    "\n",
    "    for line in lines:\n",
    "        if line.startswith(\"References:\"):\n",
    "            in_provided_by_section = True  # Start skipping lines after \"Provided by:\"\n",
    "            continue  # Skip this line\n",
    "        elif in_provided_by_section and line.startswith(\"End Exploit Number\"):\n",
    "            in_provided_by_section = False  # Stop skipping when \"Payload information:\" is encountered\n",
    "        \n",
    "        if not in_provided_by_section:\n",
    "            cleaned_lines.append(line)\n",
    "\n",
    "    # Write the cleaned lines back to the file\n",
    "    with open(filename, 'w') as file:\n",
    "        file.writelines(cleaned_lines)\n",
    "\n",
    "# Example usage:\n",
    "filename = 'exploit_info_trimmed.txt'\n",
    "remove_lines_reference_to_end(filename)"
   ]
  },
  {
   "cell_type": "code",
   "execution_count": 9,
   "id": "71cd97ab-de8a-471b-9d6c-e6370a30c2ba",
   "metadata": {
    "tags": []
   },
   "outputs": [],
   "source": [
    "def remove_lines_reference_to_end(filename):\n",
    "    with open(filename, 'r') as file:\n",
    "        lines = file.readlines()\n",
    "\n",
    "    # Variables to control when to delete lines\n",
    "    in_provided_by_section = False\n",
    "    cleaned_lines = []\n",
    "\n",
    "    for line in lines:\n",
    "        if line.startswith(\"View the full module\"):\n",
    "            in_provided_by_section = True  # Start skipping lines after \"Provided by:\"\n",
    "            continue  # Skip this line\n",
    "        elif in_provided_by_section and line.startswith(\"End Exploit Number\"):\n",
    "            in_provided_by_section = False  # Stop skipping when \"Payload information:\" is encountered\n",
    "        \n",
    "        if not in_provided_by_section:\n",
    "            cleaned_lines.append(line)\n",
    "\n",
    "    # Write the cleaned lines back to the file\n",
    "    with open(filename, 'w') as file:\n",
    "        file.writelines(cleaned_lines)\n",
    "\n",
    "# Example usage:\n",
    "filename = 'exploit_info_trimmed.txt'\n",
    "remove_lines_reference_to_end(filename)"
   ]
  },
  {
   "cell_type": "code",
   "execution_count": null,
   "id": "4b81fc30-1d1d-4730-9f73-4e6c2a59ef40",
   "metadata": {},
   "outputs": [],
   "source": []
  }
 ],
 "metadata": {
  "kernelspec": {
   "display_name": "Python 3 (ipykernel)",
   "language": "python",
   "name": "python3"
  },
  "language_info": {
   "codemirror_mode": {
    "name": "ipython",
    "version": 3
   },
   "file_extension": ".py",
   "mimetype": "text/x-python",
   "name": "python",
   "nbconvert_exporter": "python",
   "pygments_lexer": "ipython3",
   "version": "3.11.9"
  }
 },
 "nbformat": 4,
 "nbformat_minor": 5
}
